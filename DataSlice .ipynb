{
 "cells": [
  {
   "cell_type": "code",
   "execution_count": 1,
   "metadata": {},
   "outputs": [],
   "source": [
    "import numpy as np\n",
    "import pandas as pd\n",
    "import os\n",
    "import wfdb\n",
    "import matplotlib.pyplot as plt\n",
    "import math\n",
    "import seaborn as sns"
   ]
  },
  {
   "cell_type": "markdown",
   "metadata": {},
   "source": [
    "为了数据切片，一定要确定marker齐全，然后根据marker的索引来确定切片位置\n",
    "以第五名司机的ECG信号为例"
   ]
  },
  {
   "cell_type": "code",
   "execution_count": 2,
   "metadata": {},
   "outputs": [],
   "source": [
    "# Read the original biological signal \n",
    "all_signal=[]\n",
    "meta_data=[]\n",
    "for file in sorted(os.listdir(\"drivedb/1.0.0/\")):\n",
    "    if file.endswith(\".dat\"):\n",
    "        # Use wfdb.rdsamp to read wfdb data. \n",
    "        # signals is a 2d numpy array used to store the physical signals in the record. \n",
    "        # fields contains a dictionary of several key attributes for reading records (fs|units|sig_name|comments) \n",
    "        signals, fields = wfdb.rdsamp(\"drivedb/1.0.0/\" + os.path.splitext(file)[0])\n",
    "        # Signal data, including various biological signals during 18 driving \n",
    "        all_signal.append(signals)\n",
    "        # Signal data structure, data unit, etc. \n",
    "        meta_data.append(fields)"
   ]
  },
  {
   "cell_type": "code",
   "execution_count": 3,
   "metadata": {},
   "outputs": [],
   "source": [
    "ECG0 = all_signal[4].T[0]\n",
    "EMG0 = all_signal[4].T[1]\n",
    "FootGSR0 = all_signal[4].T[2]\n",
    "HandGSR0 = all_signal[4].T[3]\n",
    "HR0 = all_signal[4].T[4]\n",
    "RESP0 = all_signal[4].T[6]"
   ]
  },
  {
   "cell_type": "code",
   "execution_count": 20,
   "metadata": {},
   "outputs": [
    {
     "data": {
      "text/plain": [
       "array([33.67, 33.29, 32.94, ..., 30.6 , 31.01, 31.4 ])"
      ]
     },
     "execution_count": 20,
     "metadata": {},
     "output_type": "execute_result"
    }
   ],
   "source": [
    "#第五位司机的ECG信号\n",
    "RESP0[0:]"
   ]
  },
  {
   "cell_type": "code",
   "execution_count": 6,
   "metadata": {},
   "outputs": [],
   "source": [
    "#第五位司机数据切分\n",
    "np.savetxt('driver5_EMG_initialrest.csv',EMG0[0:14492],delimiter=',')\n",
    "np.savetxt('driver5_EMG_change1.csv',EMG0[14492:14611],delimiter=',')\n",
    "np.savetxt('driver5_EMG_city1.csv',EMG0[14611:29459],delimiter=',')\n",
    "np.savetxt('driver5_EMG_change2.csv',EMG0[29459:29476],delimiter=',')\n",
    "np.savetxt('driver5_EMG_highway1.csv',EMG0[29476:36662],delimiter=',')\n",
    "np.savetxt('driver5_EMG_change3.csv',EMG0[36662:36675],delimiter=',')\n",
    "np.savetxt('driver5_EMG_city2.csv',EMG0[36675:42297],delimiter=',')\n",
    "np.savetxt('driver5_EMG_change4.csv',EMG0[42297:42312],delimiter=',')\n",
    "np.savetxt('driver5_EMG_highway2.csv',EMG0[42312:49324],delimiter=',')\n",
    "np.savetxt('driver5_EMG_change5.csv',EMG0[49324:49346],delimiter=',')\n",
    "np.savetxt('driver5_EMG_city3.csv',EMG0[49346:63237],delimiter=',')\n",
    "np.savetxt('driver5_EMG_change6.csv',EMG0[63237:63250],delimiter=',')\n",
    "np.savetxt('driver5_EMG_finalRest.csv',EMG0[63250:],delimiter=',')"
   ]
  },
  {
   "cell_type": "code",
   "execution_count": 9,
   "metadata": {},
   "outputs": [],
   "source": [
    "#第五位司机FootGSR\n",
    "np.savetxt('driver5_FootGSR_initialrest.csv',FootGSR0[0:14492],delimiter=',')\n",
    "np.savetxt('driver5_FootGSR_change1.csv',FootGSR0[14492:14611],delimiter=',')\n",
    "np.savetxt('driver5_FootGSR_city1.csv',FootGSR0[14611:29459],delimiter=',')\n",
    "np.savetxt('driver5_FootGSR_change2.csv',FootGSR0[29459:29476],delimiter=',')\n",
    "np.savetxt('driver5_FootGSR_highway1.csv',FootGSR0[29476:36662],delimiter=',')\n",
    "np.savetxt('driver5_FootGSR_change3.csv',FootGSR0[36662:36675],delimiter=',')\n",
    "np.savetxt('driver5_FootGSR_city2.csv',FootGSR0[36675:42297],delimiter=',')\n",
    "np.savetxt('driver5_FootGSR_change4.csv',FootGSR0[42297:42312],delimiter=',')\n",
    "np.savetxt('driver5_FootGSR_highway2.csv',FootGSR0[42312:49324],delimiter=',')\n",
    "np.savetxt('driver5_FootGSR_change5.csv',FootGSR0[49324:49346],delimiter=',')\n",
    "np.savetxt('driver5_FootGSR_city3.csv',FootGSR0[49346:63237],delimiter=',')\n",
    "np.savetxt('driver5_FootGSR_change6.csv',FootGSR0[63237:63250],delimiter=',')\n",
    "np.savetxt('driver5_FootGSR_finalRest.csv',FootGSR0[63250:],delimiter=',')"
   ]
  },
  {
   "cell_type": "code",
   "execution_count": 13,
   "metadata": {},
   "outputs": [],
   "source": [
    "#第五位司机HandGSR\n",
    "np.savetxt('driver5_HandGSR_initialrest.csv',HandGSR0[0:14492],delimiter=',')\n",
    "np.savetxt('driver5_HandGSR_change1.csv',HandGSR0[14492:14611],delimiter=',')\n",
    "np.savetxt('driver5_HandGSR_city1.csv',HandGSR0[14611:29459],delimiter=',')\n",
    "np.savetxt('driver5_HandGSR_change2.csv',HandGSR0[29459:29476],delimiter=',')\n",
    "np.savetxt('driver5_HandGSR_highway1.csv',HandGSR0[29476:36662],delimiter=',')\n",
    "np.savetxt('driver5_HandGSR_change3.csv',HandGSR0[36662:36675],delimiter=',')\n",
    "np.savetxt('driver5_HandGSR_city2.csv',HandGSR0[36675:42297],delimiter=',')\n",
    "np.savetxt('driver5_HandGSR_change4.csv',HandGSR0[42297:42312],delimiter=',')\n",
    "np.savetxt('driver5_HandGSR_highway2.csv',HandGSR0[42312:49324],delimiter=',')\n",
    "np.savetxt('driver5_HandGSR_change5.csv',HandGSR0[49324:49346],delimiter=',')\n",
    "np.savetxt('driver5_HandGSR_city3.csv',HandGSR0[49346:63237],delimiter=',')\n",
    "np.savetxt('driver5_HandGSR_change6.csv',HandGSR0[63237:63250],delimiter=',')\n",
    "np.savetxt('driver5_HandGSR_finalRest.csv',HandGSR0[63250:],delimiter=',')"
   ]
  },
  {
   "cell_type": "code",
   "execution_count": 17,
   "metadata": {},
   "outputs": [],
   "source": [
    "#第五位司机HR\n",
    "np.savetxt('driver5_HR_initialrest.csv',HR0[0:14492],delimiter=',')\n",
    "np.savetxt('driver5_HR_change1.csv',HR0[14492:14611],delimiter=',')\n",
    "np.savetxt('driver5_HR_city1.csv',HR0[14611:29459],delimiter=',')\n",
    "np.savetxt('driver5_HR_change2.csv',HR0[29459:29476],delimiter=',')\n",
    "np.savetxt('driver5_HR_highway1.csv',HR0[29476:36662],delimiter=',')\n",
    "np.savetxt('driver5_HR_change3.csv',HR0[36662:36675],delimiter=',')\n",
    "np.savetxt('driver5_HR_city2.csv',HR0[36675:42297],delimiter=',')\n",
    "np.savetxt('driver5_HR_change4.csv',HR0[42297:42312],delimiter=',')\n",
    "np.savetxt('driver5_HR_highway2.csv',HR0[42312:49324],delimiter=',')\n",
    "np.savetxt('driver5_HR_change5.csv',HR0[49324:49346],delimiter=',')\n",
    "np.savetxt('driver5_HR_city3.csv',HR0[49346:63237],delimiter=',')\n",
    "np.savetxt('driver5_HR_change6.csv',HR0[63237:63250],delimiter=',')\n",
    "np.savetxt('driver5_HR_finalRest.csv',HR0[63250:],delimiter=',')"
   ]
  },
  {
   "cell_type": "code",
   "execution_count": 21,
   "metadata": {},
   "outputs": [],
   "source": [
    "#第五位司机RESP\n",
    "np.savetxt('driver5_RESP_initialrest.csv',RESP0[0:14492],delimiter=',')\n",
    "np.savetxt('driver5_RESP_change1.csv',RESP0[14492:14611],delimiter=',')\n",
    "np.savetxt('driver5_RESP_city1.csv',RESP0[14611:29459],delimiter=',')\n",
    "np.savetxt('driver5_RESP_change2.csv',RESP0[29459:29476],delimiter=',')\n",
    "np.savetxt('driver5_RESP_highway1.csv',RESP0[29476:36662],delimiter=',')\n",
    "np.savetxt('driver5_RESP_change3.csv',RESP0[36662:36675],delimiter=',')\n",
    "np.savetxt('driver5_RESP_city2.csv',RESP0[36675:42297],delimiter=',')\n",
    "np.savetxt('driver5_RESP_change4.csv',RESP0[42297:42312],delimiter=',')\n",
    "np.savetxt('driver5_RESP_highway2.csv',RESP0[42312:49324],delimiter=',')\n",
    "np.savetxt('driver5_RESP_change5.csv',RESP0[49324:49346],delimiter=',')\n",
    "np.savetxt('driver5_RESP_city3.csv',RESP0[49346:63237],delimiter=',')\n",
    "np.savetxt('driver5_RESP_change6.csv',RESP0[63237:63250],delimiter=',')\n",
    "np.savetxt('driver5_RESP_finalRest.csv',RESP0[63250:],delimiter=',')"
   ]
  },
  {
   "cell_type": "code",
   "execution_count": null,
   "metadata": {},
   "outputs": [],
   "source": [
    "#识别路段转换_Driver 7.\n",
    "for i in range(1,82442):\n",
    "    marker1 = driver7m[i-1]\n",
    "    marker2 = driver7m[i]\n",
    "    difference = marker2 - marker1\n",
    "    if difference >= 3:\n",
    "        print(i)"
   ]
  },
  {
   "cell_type": "code",
   "execution_count": null,
   "metadata": {},
   "outputs": [],
   "source": [
    "#判断句识别marker\n",
    "for i in range(1,82442):\n",
    "    marker = driver7m[i-1]\n",
    "    if marker >= 19:\n",
    "        print(i,driver7m[i-1])"
   ]
  },
  {
   "cell_type": "code",
   "execution_count": 22,
   "metadata": {},
   "outputs": [],
   "source": [
    "driver7m = all_signal[6].T[5]\n",
    "driver7ECG = all_signal[6].T[0]\n",
    "driver7EMG = all_signal[6].T[1]\n",
    "driver7FootGSR = all_signal[6].T[2]\n",
    "driver7HandGSR = all_signal[6].T[3]\n",
    "driver7HR = all_signal[6].T[4]\n",
    "driver7RESP = all_signal[6].T[6]"
   ]
  },
  {
   "cell_type": "code",
   "execution_count": 7,
   "metadata": {},
   "outputs": [
    {
     "data": {
      "text/plain": [
       "array([10.85, 10.85, 10.85, ..., 12.8 , 12.8 , 12.8 ])"
      ]
     },
     "execution_count": 7,
     "metadata": {},
     "output_type": "execute_result"
    }
   ],
   "source": [
    "driver7m"
   ]
  },
  {
   "cell_type": "code",
   "execution_count": 20,
   "metadata": {},
   "outputs": [],
   "source": [
    "#Driver7, ECG signal\n",
    "np.savetxt('initialrest.csv',driver7ECG[0:15494],delimiter=',')\n",
    "np.savetxt('change1.csv',driver7ECG[15494:15509],delimiter=',')\n",
    "\n",
    "np.savetxt('city1.csv',driver7ECG[15509:30579],delimiter=',')\n",
    "np.savetxt('change2.csv',driver7ECG[30579:30758],delimiter=',')\n",
    "\n",
    "np.savetxt('highway1.csv',driver7ECG[30758:40773],delimiter=',')\n",
    "np.savetxt('change3.csv',driver7ECG[40773:40788],delimiter=',')\n",
    "\n",
    "np.savetxt('city2.csv',driver7ECG[40788:49911],delimiter=',')\n",
    "np.savetxt('change4.csv',driver7ECG[49911:49928],delimiter=',')\n",
    "\n",
    "np.savetxt('highway2.csv',driver7ECG[49928:57016],delimiter=',')\n",
    "np.savetxt('change5.csv',driver7ECG[57016:57039],delimiter=',')\n",
    "\n",
    "np.savetxt('city3.csv',driver7ECG[57039:66460],delimiter=',')\n",
    "np.savetxt('change6.csv',driver7ECG[66460:66473],delimiter=',')\n",
    "\n",
    "np.savetxt('finalRest.csv',driver7ECG[66473:],delimiter=',')"
   ]
  },
  {
   "cell_type": "code",
   "execution_count": 24,
   "metadata": {},
   "outputs": [],
   "source": [
    "#Driver7, EMG signal\n",
    "np.savetxt('initialrest.csv',driver7EMG[0:15494],delimiter=',')\n",
    "np.savetxt('change1.csv',driver7EMG[15494:15509],delimiter=',')\n",
    "\n",
    "np.savetxt('city1.csv',driver7EMG[15509:30579],delimiter=',')\n",
    "np.savetxt('change2.csv',driver7EMG[30579:30758],delimiter=',')\n",
    "\n",
    "np.savetxt('highway1.csv',driver7EMG[30758:40773],delimiter=',')\n",
    "np.savetxt('change3.csv',driver7EMG[40773:40788],delimiter=',')\n",
    "\n",
    "np.savetxt('city2.csv',driver7EMG[40788:49911],delimiter=',')\n",
    "np.savetxt('change4.csv',driver7EMG[49911:49928],delimiter=',')\n",
    "\n",
    "np.savetxt('highway2.csv',driver7EMG[49928:57016],delimiter=',')\n",
    "np.savetxt('change5.csv',driver7EMG[57016:57039],delimiter=',')\n",
    "\n",
    "np.savetxt('city3.csv',driver7EMG[57039:66460],delimiter=',')\n",
    "np.savetxt('change6.csv',driver7EMG[66460:66473],delimiter=',')\n",
    "\n",
    "np.savetxt('finalRest.csv',driver7EMG[66473:],delimiter=',')"
   ]
  },
  {
   "cell_type": "code",
   "execution_count": 25,
   "metadata": {},
   "outputs": [],
   "source": [
    "#Driver7, FootGSR signal\n",
    "np.savetxt('initialrest.csv',driver7FootGSR[0:15494],delimiter=',')\n",
    "np.savetxt('change1.csv',driver7FootGSR[15494:15509],delimiter=',')\n",
    "\n",
    "np.savetxt('city1.csv',driver7FootGSR[15509:30579],delimiter=',')\n",
    "np.savetxt('change2.csv',driver7FootGSR[30579:30758],delimiter=',')\n",
    "\n",
    "np.savetxt('highway1.csv',driver7FootGSR[30758:40773],delimiter=',')\n",
    "np.savetxt('change3.csv',driver7FootGSR[40773:40788],delimiter=',')\n",
    "\n",
    "np.savetxt('city2.csv',driver7FootGSR[40788:49911],delimiter=',')\n",
    "np.savetxt('change4.csv',driver7FootGSR[49911:49928],delimiter=',')\n",
    "\n",
    "np.savetxt('highway2.csv',driver7FootGSR[49928:57016],delimiter=',')\n",
    "np.savetxt('change5.csv',driver7FootGSR[57016:57039],delimiter=',')\n",
    "\n",
    "np.savetxt('city3.csv',driver7FootGSR[57039:66460],delimiter=',')\n",
    "np.savetxt('change6.csv',driver7FootGSR[66460:66473],delimiter=',')\n",
    "\n",
    "np.savetxt('finalRest.csv',driver7FootGSR[66473:],delimiter=',')"
   ]
  },
  {
   "cell_type": "code",
   "execution_count": 26,
   "metadata": {},
   "outputs": [],
   "source": [
    "#Driver7, HandGSR signal\n",
    "np.savetxt('initialrest.csv',driver7HandGSR[0:15494],delimiter=',')\n",
    "np.savetxt('change1.csv',driver7HandGSR[15494:15509],delimiter=',')\n",
    "\n",
    "np.savetxt('city1.csv',driver7HandGSR[15509:30579],delimiter=',')\n",
    "np.savetxt('change2.csv',driver7HandGSR[30579:30758],delimiter=',')\n",
    "\n",
    "np.savetxt('highway1.csv',driver7HandGSR[30758:40773],delimiter=',')\n",
    "np.savetxt('change3.csv',driver7HandGSR[40773:40788],delimiter=',')\n",
    "\n",
    "np.savetxt('city2.csv',driver7HandGSR[40788:49911],delimiter=',')\n",
    "np.savetxt('change4.csv',driver7HandGSR[49911:49928],delimiter=',')\n",
    "\n",
    "np.savetxt('highway2.csv',driver7HandGSR[49928:57016],delimiter=',')\n",
    "np.savetxt('change5.csv',driver7HandGSR[57016:57039],delimiter=',')\n",
    "\n",
    "np.savetxt('city3.csv',driver7HandGSR[57039:66460],delimiter=',')\n",
    "np.savetxt('change6.csv',driver7HandGSR[66460:66473],delimiter=',')\n",
    "\n",
    "np.savetxt('finalRest.csv',driver7HandGSR[66473:],delimiter=',')"
   ]
  },
  {
   "cell_type": "code",
   "execution_count": 27,
   "metadata": {},
   "outputs": [],
   "source": [
    "#Driver7, HR signal\n",
    "np.savetxt('initialrest.csv',driver7HR[0:15494],delimiter=',')\n",
    "np.savetxt('change1.csv',driver7HR[15494:15509],delimiter=',')\n",
    "\n",
    "np.savetxt('city1.csv',driver7HR[15509:30579],delimiter=',')\n",
    "np.savetxt('change2.csv',driver7HR[30579:30758],delimiter=',')\n",
    "\n",
    "np.savetxt('highway1.csv',driver7HR[30758:40773],delimiter=',')\n",
    "np.savetxt('change3.csv',driver7HR[40773:40788],delimiter=',')\n",
    "\n",
    "np.savetxt('city2.csv',driver7HR[40788:49911],delimiter=',')\n",
    "np.savetxt('change4.csv',driver7HR[49911:49928],delimiter=',')\n",
    "\n",
    "np.savetxt('highway2.csv',driver7HR[49928:57016],delimiter=',')\n",
    "np.savetxt('change5.csv',driver7HR[57016:57039],delimiter=',')\n",
    "\n",
    "np.savetxt('city3.csv',driver7HR[57039:66460],delimiter=',')\n",
    "np.savetxt('change6.csv',driver7HR[66460:66473],delimiter=',')\n",
    "\n",
    "np.savetxt('finalRest.csv',driver7HR[66473:],delimiter=',')"
   ]
  },
  {
   "cell_type": "code",
   "execution_count": 28,
   "metadata": {},
   "outputs": [],
   "source": [
    "#Driver7, RESP signal\n",
    "np.savetxt('initialrest.csv',driver7RESP[0:15494],delimiter=',')\n",
    "np.savetxt('change1.csv',driver7RESP[15494:15509],delimiter=',')\n",
    "\n",
    "np.savetxt('city1.csv',driver7RESP[15509:30579],delimiter=',')\n",
    "np.savetxt('change2.csv',driver7RESP[30579:30758],delimiter=',')\n",
    "\n",
    "np.savetxt('highway1.csv',driver7RESP[30758:40773],delimiter=',')\n",
    "np.savetxt('change3.csv',driver7RESP[40773:40788],delimiter=',')\n",
    "\n",
    "np.savetxt('city2.csv',driver7RESP[40788:49911],delimiter=',')\n",
    "np.savetxt('change4.csv',driver7RESP[49911:49928],delimiter=',')\n",
    "\n",
    "np.savetxt('highway2.csv',driver7RESP[49928:57016],delimiter=',')\n",
    "np.savetxt('change5.csv',driver7RESP[57016:57039],delimiter=',')\n",
    "\n",
    "np.savetxt('city3.csv',driver7RESP[57039:66460],delimiter=',')\n",
    "np.savetxt('change6.csv',driver7RESP[66460:66473],delimiter=',')\n",
    "\n",
    "np.savetxt('finalRest.csv',driver7RESP[66473:],delimiter=',')"
   ]
  },
  {
   "cell_type": "markdown",
   "metadata": {},
   "source": [
    "司机9和司机16的marker数据不太对劲\n",
    "数据有点奇怪，不知道要不要切"
   ]
  },
  {
   "cell_type": "code",
   "execution_count": 29,
   "metadata": {},
   "outputs": [],
   "source": [
    "#Driver 9试切"
   ]
  },
  {
   "cell_type": "code",
   "execution_count": 35,
   "metadata": {},
   "outputs": [
    {
     "name": "stdout",
     "output_type": "stream",
     "text": [
      "889 13.6\n",
      "890 14.28\n",
      "891 17.86\n",
      "892 20.1\n",
      "893 21.43\n",
      "894 16.37\n",
      "15453 13.12\n",
      "15454 15.16\n",
      "15455 17.51\n",
      "15456 20.97\n",
      "15457 23.71\n",
      "15458 22.62\n",
      "15459 16.92\n",
      "15460 14.48\n",
      "15805 23.18\n",
      "15814 13.86\n",
      "33319 14.31\n",
      "33320 15.24\n",
      "33321 13.7\n",
      "33641 13.23\n",
      "33642 13.39\n",
      "33643 13.64\n",
      "33644 13.55\n",
      "33974 13.25\n",
      "33975 13.17\n",
      "34070 13.05\n",
      "34071 13.44\n",
      "34072 13.55\n",
      "41198 13.23\n",
      "41199 15.85\n",
      "41200 18.15\n",
      "41201 15.87\n",
      "46027 13.11\n",
      "46039 13.17\n",
      "52607 13.55\n",
      "52608 13.64\n",
      "64719 13.42\n",
      "64720 14.09\n",
      "64721 14.02\n",
      "64722 14.04\n",
      "64723 14.25\n",
      "64724 14.59\n",
      "64725 15.02\n",
      "64726 15.14\n",
      "64727 14.79\n",
      "64728 13.88\n",
      "64729 13.43\n",
      "64730 13.87\n",
      "64731 14.05\n",
      "64732 13.74\n",
      "64733 13.1\n",
      "64890 13.66\n",
      "64891 14.3\n",
      "64892 14.93\n",
      "64893 17.24\n",
      "64894 18.31\n",
      "64895 18.42\n",
      "64896 19.25\n",
      "64897 19.06\n",
      "64898 16.6\n",
      "64899 13.55\n"
     ]
    }
   ],
   "source": [
    "for i in range(1,65912):\n",
    "    marker = driver9m[i-1]\n",
    "    if marker >= 13:\n",
    "        print(i,driver9m[i-1])"
   ]
  },
  {
   "cell_type": "code",
   "execution_count": 30,
   "metadata": {},
   "outputs": [],
   "source": [
    "driver9m = all_signal[8].T[5]\n",
    "driver9ECG = all_signal[8].T[0]\n",
    "driver9EMG = all_signal[8].T[1]\n",
    "driver9FootGSR = all_signal[8].T[2]\n",
    "driver9HandGSR = all_signal[8].T[3]\n",
    "driver9HR = all_signal[8].T[4]\n",
    "driver9RESP = all_signal[8].T[6]"
   ]
  },
  {
   "cell_type": "code",
   "execution_count": 33,
   "metadata": {},
   "outputs": [
    {
     "data": {
      "text/plain": [
       "(65912,)"
      ]
     },
     "execution_count": 33,
     "metadata": {},
     "output_type": "execute_result"
    }
   ],
   "source": [
    "driver9m.shape"
   ]
  },
  {
   "cell_type": "code",
   "execution_count": 36,
   "metadata": {},
   "outputs": [],
   "source": [
    "#Driver9, ECG signal\n",
    "np.savetxt('initialrest.csv',driver9ECG[1:15450],delimiter=',')\n",
    "np.savetxt('change1.csv',driver9ECG[15450:15461],delimiter=',')\n",
    "\n",
    "np.savetxt('city1.csv',driver9ECG[15461:33313],delimiter=',')\n",
    "#这里跳过了15805的点，先看看做出来的效果\n",
    "#33319这个点之后也有两个高点，这里把第一个高点看做是道路转换\n",
    "np.savetxt('change2.csv',driver9ECG[33313:33323],delimiter=',')\n",
    "\n",
    "np.savetxt('highway1.csv',driver9ECG[33323:41194],delimiter=',')\n",
    "np.savetxt('change3.csv',driver9ECG[41194:41209],delimiter=',')\n",
    "\n",
    "np.savetxt('city2.csv',driver9ECG[41209:46020],delimiter=',')\n",
    "np.savetxt('change4.csv',driver9ECG[46020:46052],delimiter=',')\n",
    "\n",
    "np.savetxt('highway2.csv',driver9ECG[46052:52602],delimiter=',')\n",
    "np.savetxt('change5.csv',driver9ECG[52602:52610],delimiter=',')\n",
    "\n",
    "np.savetxt('city3.csv',driver9ECG[52610:],delimiter=',')"
   ]
  },
  {
   "cell_type": "code",
   "execution_count": 37,
   "metadata": {},
   "outputs": [],
   "source": [
    "#Driver9, EMG signal\n",
    "np.savetxt('initialrest.csv',driver9EMG[1:15450],delimiter=',')\n",
    "np.savetxt('change1.csv',driver9EMG[15450:15461],delimiter=',')\n",
    "\n",
    "np.savetxt('city1.csv',driver9EMG[15461:33313],delimiter=',')\n",
    "#这里跳过了15805的点，先看看做出来的效果\n",
    "#33319这个点之后也有两个高点，这里把第一个高点看做是道路转换\n",
    "np.savetxt('change2.csv',driver9EMG[33313:33323],delimiter=',')\n",
    "\n",
    "np.savetxt('highway1.csv',driver9EMG[33323:41194],delimiter=',')\n",
    "np.savetxt('change3.csv',driver9EMG[41194:41209],delimiter=',')\n",
    "\n",
    "np.savetxt('city2.csv',driver9EMG[41209:46020],delimiter=',')\n",
    "np.savetxt('change4.csv',driver9EMG[46020:46052],delimiter=',')\n",
    "\n",
    "np.savetxt('highway2.csv',driver9EMG[46052:52602],delimiter=',')\n",
    "np.savetxt('change5.csv',driver9EMG[52602:52610],delimiter=',')\n",
    "\n",
    "np.savetxt('city3.csv',driver9EMG[52610:],delimiter=',')"
   ]
  },
  {
   "cell_type": "code",
   "execution_count": 38,
   "metadata": {},
   "outputs": [],
   "source": [
    "#Driver9, FootGSR signal\n",
    "np.savetxt('initialrest.csv',driver9FootGSR[1:15450],delimiter=',')\n",
    "np.savetxt('change1.csv',driver9FootGSR[15450:15461],delimiter=',')\n",
    "\n",
    "np.savetxt('city1.csv',driver9FootGSR[15461:33313],delimiter=',')\n",
    "#这里跳过了15805的点，先看看做出来的效果\n",
    "#33319这个点之后也有两个高点，这里把第一个高点看做是道路转换\n",
    "np.savetxt('change2.csv',driver9FootGSR[33313:33323],delimiter=',')\n",
    "\n",
    "np.savetxt('highway1.csv',driver9FootGSR[33323:41194],delimiter=',')\n",
    "np.savetxt('change3.csv',driver9FootGSR[41194:41209],delimiter=',')\n",
    "\n",
    "np.savetxt('city2.csv',driver9FootGSR[41209:46020],delimiter=',')\n",
    "np.savetxt('change4.csv',driver9FootGSR[46020:46052],delimiter=',')\n",
    "\n",
    "np.savetxt('highway2.csv',driver9FootGSR[46052:52602],delimiter=',')\n",
    "np.savetxt('change5.csv',driver9FootGSR[52602:52610],delimiter=',')\n",
    "\n",
    "np.savetxt('city3.csv',driver9FootGSR[52610:],delimiter=',')"
   ]
  },
  {
   "cell_type": "code",
   "execution_count": 39,
   "metadata": {},
   "outputs": [],
   "source": [
    "#Driver9, HandGSR signal\n",
    "np.savetxt('initialrest.csv',driver9HandGSR[1:15450],delimiter=',')\n",
    "np.savetxt('change1.csv',driver9HandGSR[15450:15461],delimiter=',')\n",
    "\n",
    "np.savetxt('city1.csv',driver9HandGSR[15461:33313],delimiter=',')\n",
    "#这里跳过了15805的点，先看看做出来的效果\n",
    "#33319这个点之后也有两个高点，这里把第一个高点看做是道路转换\n",
    "np.savetxt('change2.csv',driver9HandGSR[33313:33323],delimiter=',')\n",
    "\n",
    "np.savetxt('highway1.csv',driver9HandGSR[33323:41194],delimiter=',')\n",
    "np.savetxt('change3.csv',driver9HandGSR[41194:41209],delimiter=',')\n",
    "\n",
    "np.savetxt('city2.csv',driver9HandGSR[41209:46020],delimiter=',')\n",
    "np.savetxt('change4.csv',driver9HandGSR[46020:46052],delimiter=',')\n",
    "\n",
    "np.savetxt('highway2.csv',driver9HandGSR[46052:52602],delimiter=',')\n",
    "np.savetxt('change5.csv',driver9HandGSR[52602:52610],delimiter=',')\n",
    "\n",
    "np.savetxt('city3.csv',driver9HandGSR[52610:],delimiter=',')"
   ]
  },
  {
   "cell_type": "code",
   "execution_count": 40,
   "metadata": {},
   "outputs": [],
   "source": [
    "#Driver9, HR signal\n",
    "np.savetxt('initialrest.csv',driver9HR[1:15450],delimiter=',')\n",
    "np.savetxt('change1.csv',driver9HR[15450:15461],delimiter=',')\n",
    "\n",
    "np.savetxt('city1.csv',driver9HR[15461:33313],delimiter=',')\n",
    "#这里跳过了15805的点，先看看做出来的效果\n",
    "#33319这个点之后也有两个高点，这里把第一个高点看做是道路转换\n",
    "np.savetxt('change2.csv',driver9HR[33313:33323],delimiter=',')\n",
    "\n",
    "np.savetxt('highway1.csv',driver9HR[33323:41194],delimiter=',')\n",
    "np.savetxt('change3.csv',driver9HR[41194:41209],delimiter=',')\n",
    "\n",
    "np.savetxt('city2.csv',driver9HR[41209:46020],delimiter=',')\n",
    "np.savetxt('change4.csv',driver9HR[46020:46052],delimiter=',')\n",
    "\n",
    "np.savetxt('highway2.csv',driver9HR[46052:52602],delimiter=',')\n",
    "np.savetxt('change5.csv',driver9HR[52602:52610],delimiter=',')\n",
    "\n",
    "np.savetxt('city3.csv',driver9HR[52610:],delimiter=',')"
   ]
  },
  {
   "cell_type": "code",
   "execution_count": 41,
   "metadata": {},
   "outputs": [],
   "source": [
    "#Driver9, RESP signal\n",
    "np.savetxt('initialrest.csv',driver9RESP[1:15450],delimiter=',')\n",
    "np.savetxt('change1.csv',driver9RESP[15450:15461],delimiter=',')\n",
    "\n",
    "np.savetxt('city1.csv',driver9RESP[15461:33313],delimiter=',')\n",
    "#这里跳过了15805的点，先看看做出来的效果\n",
    "#33319这个点之后也有两个高点，这里把第一个高点看做是道路转换\n",
    "np.savetxt('change2.csv',driver9RESP[33313:33323],delimiter=',')\n",
    "\n",
    "np.savetxt('highway1.csv',driver9RESP[33323:41194],delimiter=',')\n",
    "np.savetxt('change3.csv',driver9RESP[41194:41209],delimiter=',')\n",
    "\n",
    "np.savetxt('city2.csv',driver9RESP[41209:46020],delimiter=',')\n",
    "np.savetxt('change4.csv',driver9RESP[46020:46052],delimiter=',')\n",
    "\n",
    "np.savetxt('highway2.csv',driver9RESP[46052:52602],delimiter=',')\n",
    "np.savetxt('change5.csv',driver9RESP[52602:52610],delimiter=',')\n",
    "\n",
    "np.savetxt('city3.csv',driver9RESP[52610:],delimiter=',')"
   ]
  }
 ],
 "metadata": {
  "kernelspec": {
   "display_name": "Python 3",
   "language": "python",
   "name": "python3"
  },
  "language_info": {
   "codemirror_mode": {
    "name": "ipython",
    "version": 3
   },
   "file_extension": ".py",
   "mimetype": "text/x-python",
   "name": "python",
   "nbconvert_exporter": "python",
   "pygments_lexer": "ipython3",
   "version": "3.8.5"
  }
 },
 "nbformat": 4,
 "nbformat_minor": 4
}
